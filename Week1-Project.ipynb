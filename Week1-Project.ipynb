{
 "cells": [
  {
   "cell_type": "markdown",
   "id": "afed82ca",
   "metadata": {},
   "source": [
    "# PassMan"
   ]
  },
  {
   "cell_type": "markdown",
   "id": "a9ff8ca2",
   "metadata": {},
   "source": [
    "##  a password manager"
   ]
  },
  {
   "cell_type": "markdown",
   "id": "9a91e7ba",
   "metadata": {},
   "source": [
    "# "
   ]
  },
  {
   "cell_type": "markdown",
   "id": "69b6d1d1",
   "metadata": {},
   "source": [
    "# "
   ]
  },
  {
   "cell_type": "markdown",
   "id": "49e6ccca",
   "metadata": {},
   "source": [
    "### Accounts\n"
   ]
  },
  {
   "cell_type": "code",
   "execution_count": 1,
   "id": "aa892aeb",
   "metadata": {},
   "outputs": [],
   "source": [
    "password_manager = {\n",
    "    \"Twitter Account\" : {\n",
    "        \"Username\" : \"AbdullahOwayyid\",\n",
    "        \"Password\" : \"Sb@fbcd33427\",\n",
    "        \"Priority\": 9.8\n",
    "    },\n",
    "    \"Instagram Account\" : {\n",
    "        \"Username\" : \"abdullah123\",\n",
    "        \"Password\" : \"eedrw321s\",\n",
    "        \"Priority\": 8.5\n",
    "    },\n",
    "    \"Facebook Account\" : {\n",
    "        \"Username\" : \"abdul_01\",\n",
    "        \"Password\" : \"hn@28nHF29f&7e\",\n",
    "        \"Priority\" : 7.0\n",
    "    }\n",
    "}"
   ]
  },
  {
   "cell_type": "markdown",
   "id": "2c983dd5",
   "metadata": {},
   "source": [
    "### adding another account"
   ]
  },
  {
   "cell_type": "code",
   "execution_count": 3,
   "id": "ad734846",
   "metadata": {
    "scrolled": true
   },
   "outputs": [
    {
     "name": "stdout",
     "output_type": "stream",
     "text": [
      "Enter app/website name: LinkedIn Account\n",
      "Enter username: AbdullahOwa123\n",
      "Enter password: 11223344\n",
      "Enter safety priority: 8\n",
      "Account added\n"
     ]
    }
   ],
   "source": [
    "def add_account():\n",
    "    acc = input(\"Enter app/website name: \")\n",
    "    usr = input(\"Enter username: \")\n",
    "    pswd = input(\"Enter password: \")\n",
    "    prt = float(input(\"Enter safety priority: \"))\n",
    "\n",
    "    new_account = {\n",
    "        \"Username\" : usr,\n",
    "        \"Password\" : pswd,\n",
    "        \"Priority\" : prt\n",
    "    }\n",
    "\n",
    "    password_manager[acc] = new_account\n",
    "    print(\"Account added\")\n",
    "    \n",
    "\n",
    "add_account()"
   ]
  },
  {
   "cell_type": "markdown",
   "id": "a201d968",
   "metadata": {},
   "source": [
    "### Change account password"
   ]
  },
  {
   "cell_type": "code",
   "execution_count": 9,
   "id": "d029e0f2",
   "metadata": {},
   "outputs": [
    {
     "name": "stdout",
     "output_type": "stream",
     "text": [
      "eedrw321s\n",
      "1122334455\n"
     ]
    }
   ],
   "source": [
    "def  change_pass(acc, newPass):\n",
    "    password_manager[acc][\"Password\"] = newPass\n",
    "\n",
    "print(password_manager[\"Instagram Account\"][\"Password\"])\n",
    "\n",
    "change_pass(\"Instagram Account\", \"1122334455\")\n",
    "print(password_manager[\"Instagram Account\"][\"Password\"])"
   ]
  },
  {
   "cell_type": "markdown",
   "id": "0628d243",
   "metadata": {},
   "source": [
    "### Deleteing account"
   ]
  },
  {
   "cell_type": "code",
   "execution_count": 8,
   "id": "529eaa45",
   "metadata": {},
   "outputs": [
    {
     "name": "stdout",
     "output_type": "stream",
     "text": [
      "{'Instagram Account': {'Username': 'abdullah123', 'Password': 'eedrw321s', 'Priority': 8.5}, 'Facebook Account': {'Username': 'abdul_01', 'Password': 'hn@28nHF29f&7e', 'Priority': 7.0}, 'LinkedIn Account': {'Username': 'AbdullahOwa123', 'Password': '11223344', 'Priority': 8.0}}\n"
     ]
    }
   ],
   "source": [
    "def delete_account(acc):\n",
    "    del password_manager[acc]\n",
    "\n",
    "delete_account(\"Twitter Account\")\n",
    "print(password_manager)"
   ]
  },
  {
   "cell_type": "markdown",
   "id": "adc26f46",
   "metadata": {},
   "source": [
    "### Browes my accounts"
   ]
  },
  {
   "cell_type": "code",
   "execution_count": 4,
   "id": "ed8dfb81",
   "metadata": {},
   "outputs": [
    {
     "data": {
      "text/plain": [
       "['Twitter Account',\n",
       " 'Instagram Account',\n",
       " 'Facebook Account',\n",
       " 'LinkedIn Account']"
      ]
     },
     "execution_count": 4,
     "metadata": {},
     "output_type": "execute_result"
    }
   ],
   "source": [
    "browes_accounts = lambda: [i for i in password_manager]\n",
    "\n",
    "browes_accounts()"
   ]
  },
  {
   "cell_type": "markdown",
   "id": "4ea384a6",
   "metadata": {},
   "source": [
    "### password checker function, checks a password if it is weak or strong"
   ]
  },
  {
   "cell_type": "code",
   "execution_count": 5,
   "id": "28ba1438",
   "metadata": {},
   "outputs": [
    {
     "name": "stdout",
     "output_type": "stream",
     "text": [
      "Twitter Account password is strong\n",
      "Instagram Account password is weak\n",
      "Facebook Account password is strong\n",
      "LinkedIn Account password is weak\n"
     ]
    }
   ],
   "source": [
    "def pass_checker(psw):\n",
    "    min_pass_length = 8\n",
    "    max_pass_length = 64\n",
    "    if len(psw) < min_pass_length:\n",
    "        return \"passowrd is too short!\"\n",
    "    elif len(psw) > max_pass_length:\n",
    "        return \"passowrd is too long!\"\n",
    "    else:\n",
    "        have_uppercase = any(c.isupper() for c in psw)\n",
    "        have_lowercase = any(c.islower() for c in psw)\n",
    "        have_number = any(c.isdigit() for c in psw)\n",
    "        have_symbols = any(not c.isalnum() for c in psw)\n",
    "        if have_uppercase and have_lowercase and have_number and have_symbols:\n",
    "            return \"strong\"\n",
    "        else:\n",
    "            return \"weak\"\n",
    "\n",
    "\n",
    "# Check all accounts' passwords\n",
    "for i in password_manager:\n",
    "    if pass_checker(password_manager[i][\"Password\"]) == \"strong\":\n",
    "                    print(f'{i} password is strong')\n",
    "    else:\n",
    "                    print(f'{i} password is weak')"
   ]
  },
  {
   "cell_type": "markdown",
   "id": "8471cbaa",
   "metadata": {},
   "source": [
    "### Password Generator"
   ]
  },
  {
   "cell_type": "code",
   "execution_count": 7,
   "id": "15797156",
   "metadata": {},
   "outputs": [
    {
     "name": "stdout",
     "output_type": "stream",
     "text": [
      "*S6:S^ZY5x&`\n"
     ]
    }
   ],
   "source": [
    "import random\n",
    "import string\n",
    "\n",
    "def pass_generator(length):\n",
    "    while True:\n",
    "        generated_password = ''.join(random.choices(string.ascii_letters + string.digits + string.punctuation, k = length))\n",
    "        \n",
    "        have_uppercase = any(c.isupper() for c in generated_password)\n",
    "        have_lowercase = any(c.islower() for c in generated_password)\n",
    "        have_number = any(c.isdigit() for c in generated_password)\n",
    "        have_symbols = any(not c.isalnum() for c in generated_password)\n",
    "        \n",
    "        if have_uppercase and have_lowercase and have_number and have_symbols:\n",
    "            return generated_password\n",
    "        \n",
    "random_password = pass_generator(12)\n",
    "print(random_password)"
   ]
  }
 ],
 "metadata": {
  "kernelspec": {
   "display_name": "Python 3 (ipykernel)",
   "language": "python",
   "name": "python3"
  },
  "language_info": {
   "codemirror_mode": {
    "name": "ipython",
    "version": 3
   },
   "file_extension": ".py",
   "mimetype": "text/x-python",
   "name": "python",
   "nbconvert_exporter": "python",
   "pygments_lexer": "ipython3",
   "version": "3.11.3"
  }
 },
 "nbformat": 4,
 "nbformat_minor": 5
}
